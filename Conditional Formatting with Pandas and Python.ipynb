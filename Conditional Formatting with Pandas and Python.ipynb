{
 "cells": [
  {
   "cell_type": "code",
   "execution_count": 1,
   "metadata": {},
   "outputs": [
    {
     "data": {
      "text/html": [
       "<div>\n",
       "<style scoped>\n",
       "    .dataframe tbody tr th:only-of-type {\n",
       "        vertical-align: middle;\n",
       "    }\n",
       "\n",
       "    .dataframe tbody tr th {\n",
       "        vertical-align: top;\n",
       "    }\n",
       "\n",
       "    .dataframe thead th {\n",
       "        text-align: right;\n",
       "    }\n",
       "</style>\n",
       "<table border=\"1\" class=\"dataframe\">\n",
       "  <thead>\n",
       "    <tr style=\"text-align: right;\">\n",
       "      <th></th>\n",
       "      <th>Item</th>\n",
       "      <th>Cost</th>\n",
       "    </tr>\n",
       "  </thead>\n",
       "  <tbody>\n",
       "    <tr>\n",
       "      <td>0</td>\n",
       "      <td>Rent</td>\n",
       "      <td>6000.0</td>\n",
       "    </tr>\n",
       "    <tr>\n",
       "      <td>1</td>\n",
       "      <td>Gas</td>\n",
       "      <td>1650.0</td>\n",
       "    </tr>\n",
       "    <tr>\n",
       "      <td>2</td>\n",
       "      <td>Food</td>\n",
       "      <td>5000.0</td>\n",
       "    </tr>\n",
       "    <tr>\n",
       "      <td>3</td>\n",
       "      <td>tax</td>\n",
       "      <td>NaN</td>\n",
       "    </tr>\n",
       "    <tr>\n",
       "      <td>4</td>\n",
       "      <td>Light Bill</td>\n",
       "      <td>2000.0</td>\n",
       "    </tr>\n",
       "  </tbody>\n",
       "</table>\n",
       "</div>"
      ],
      "text/plain": [
       "         Item    Cost\n",
       "0        Rent  6000.0\n",
       "1         Gas  1650.0\n",
       "2        Food  5000.0\n",
       "3         tax     NaN\n",
       "4  Light Bill  2000.0"
      ]
     },
     "execution_count": 1,
     "metadata": {},
     "output_type": "execute_result"
    }
   ],
   "source": [
    "import pandas as pd\n",
    "\n",
    "df = pd.read_excel('formating_excel_with_python.xlsx')\n",
    "df"
   ]
  },
  {
   "cell_type": "code",
   "execution_count": 2,
   "metadata": {},
   "outputs": [
    {
     "name": "stdout",
     "output_type": "stream",
     "text": [
      "<class 'pandas.core.frame.DataFrame'>\n",
      "RangeIndex: 5 entries, 0 to 4\n",
      "Data columns (total 2 columns):\n",
      "Item    5 non-null object\n",
      "Cost    4 non-null float64\n",
      "dtypes: float64(1), object(1)\n",
      "memory usage: 208.0+ bytes\n"
     ]
    }
   ],
   "source": [
    "df.info()"
   ]
  },
  {
   "cell_type": "code",
   "execution_count": 3,
   "metadata": {},
   "outputs": [
    {
     "data": {
      "text/html": [
       "<style  type=\"text/css\" >\n",
       "    #T_857402d8_a324_11ea_a88b_186024172e4frow0_col1 {\n",
       "            background-color:  yellow;\n",
       "        }</style><table id=\"T_857402d8_a324_11ea_a88b_186024172e4f\" ><thead>    <tr>        <th class=\"blank level0\" ></th>        <th class=\"col_heading level0 col0\" >Item</th>        <th class=\"col_heading level0 col1\" >Cost</th>    </tr></thead><tbody>\n",
       "                <tr>\n",
       "                        <th id=\"T_857402d8_a324_11ea_a88b_186024172e4flevel0_row0\" class=\"row_heading level0 row0\" >0</th>\n",
       "                        <td id=\"T_857402d8_a324_11ea_a88b_186024172e4frow0_col0\" class=\"data row0 col0\" >Rent</td>\n",
       "                        <td id=\"T_857402d8_a324_11ea_a88b_186024172e4frow0_col1\" class=\"data row0 col1\" >6000</td>\n",
       "            </tr>\n",
       "            <tr>\n",
       "                        <th id=\"T_857402d8_a324_11ea_a88b_186024172e4flevel0_row1\" class=\"row_heading level0 row1\" >1</th>\n",
       "                        <td id=\"T_857402d8_a324_11ea_a88b_186024172e4frow1_col0\" class=\"data row1 col0\" >Gas</td>\n",
       "                        <td id=\"T_857402d8_a324_11ea_a88b_186024172e4frow1_col1\" class=\"data row1 col1\" >1650</td>\n",
       "            </tr>\n",
       "            <tr>\n",
       "                        <th id=\"T_857402d8_a324_11ea_a88b_186024172e4flevel0_row2\" class=\"row_heading level0 row2\" >2</th>\n",
       "                        <td id=\"T_857402d8_a324_11ea_a88b_186024172e4frow2_col0\" class=\"data row2 col0\" >Food</td>\n",
       "                        <td id=\"T_857402d8_a324_11ea_a88b_186024172e4frow2_col1\" class=\"data row2 col1\" >5000</td>\n",
       "            </tr>\n",
       "            <tr>\n",
       "                        <th id=\"T_857402d8_a324_11ea_a88b_186024172e4flevel0_row3\" class=\"row_heading level0 row3\" >3</th>\n",
       "                        <td id=\"T_857402d8_a324_11ea_a88b_186024172e4frow3_col0\" class=\"data row3 col0\" >tax</td>\n",
       "                        <td id=\"T_857402d8_a324_11ea_a88b_186024172e4frow3_col1\" class=\"data row3 col1\" >nan</td>\n",
       "            </tr>\n",
       "            <tr>\n",
       "                        <th id=\"T_857402d8_a324_11ea_a88b_186024172e4flevel0_row4\" class=\"row_heading level0 row4\" >4</th>\n",
       "                        <td id=\"T_857402d8_a324_11ea_a88b_186024172e4frow4_col0\" class=\"data row4 col0\" >Light Bill</td>\n",
       "                        <td id=\"T_857402d8_a324_11ea_a88b_186024172e4frow4_col1\" class=\"data row4 col1\" >2000</td>\n",
       "            </tr>\n",
       "    </tbody></table>"
      ],
      "text/plain": [
       "<pandas.io.formats.style.Styler at 0x15af9173ec8>"
      ]
     },
     "execution_count": 3,
     "metadata": {},
     "output_type": "execute_result"
    }
   ],
   "source": [
    "df.style.highlight_max()"
   ]
  },
  {
   "cell_type": "code",
   "execution_count": 4,
   "metadata": {},
   "outputs": [
    {
     "data": {
      "text/html": [
       "<style  type=\"text/css\" >\n",
       "    #T_85786ca8_a324_11ea_bf92_186024172e4frow1_col1 {\n",
       "            background-color:  yellow;\n",
       "        }</style><table id=\"T_85786ca8_a324_11ea_bf92_186024172e4f\" ><thead>    <tr>        <th class=\"blank level0\" ></th>        <th class=\"col_heading level0 col0\" >Item</th>        <th class=\"col_heading level0 col1\" >Cost</th>    </tr></thead><tbody>\n",
       "                <tr>\n",
       "                        <th id=\"T_85786ca8_a324_11ea_bf92_186024172e4flevel0_row0\" class=\"row_heading level0 row0\" >0</th>\n",
       "                        <td id=\"T_85786ca8_a324_11ea_bf92_186024172e4frow0_col0\" class=\"data row0 col0\" >Rent</td>\n",
       "                        <td id=\"T_85786ca8_a324_11ea_bf92_186024172e4frow0_col1\" class=\"data row0 col1\" >6000</td>\n",
       "            </tr>\n",
       "            <tr>\n",
       "                        <th id=\"T_85786ca8_a324_11ea_bf92_186024172e4flevel0_row1\" class=\"row_heading level0 row1\" >1</th>\n",
       "                        <td id=\"T_85786ca8_a324_11ea_bf92_186024172e4frow1_col0\" class=\"data row1 col0\" >Gas</td>\n",
       "                        <td id=\"T_85786ca8_a324_11ea_bf92_186024172e4frow1_col1\" class=\"data row1 col1\" >1650</td>\n",
       "            </tr>\n",
       "            <tr>\n",
       "                        <th id=\"T_85786ca8_a324_11ea_bf92_186024172e4flevel0_row2\" class=\"row_heading level0 row2\" >2</th>\n",
       "                        <td id=\"T_85786ca8_a324_11ea_bf92_186024172e4frow2_col0\" class=\"data row2 col0\" >Food</td>\n",
       "                        <td id=\"T_85786ca8_a324_11ea_bf92_186024172e4frow2_col1\" class=\"data row2 col1\" >5000</td>\n",
       "            </tr>\n",
       "            <tr>\n",
       "                        <th id=\"T_85786ca8_a324_11ea_bf92_186024172e4flevel0_row3\" class=\"row_heading level0 row3\" >3</th>\n",
       "                        <td id=\"T_85786ca8_a324_11ea_bf92_186024172e4frow3_col0\" class=\"data row3 col0\" >tax</td>\n",
       "                        <td id=\"T_85786ca8_a324_11ea_bf92_186024172e4frow3_col1\" class=\"data row3 col1\" >nan</td>\n",
       "            </tr>\n",
       "            <tr>\n",
       "                        <th id=\"T_85786ca8_a324_11ea_bf92_186024172e4flevel0_row4\" class=\"row_heading level0 row4\" >4</th>\n",
       "                        <td id=\"T_85786ca8_a324_11ea_bf92_186024172e4frow4_col0\" class=\"data row4 col0\" >Light Bill</td>\n",
       "                        <td id=\"T_85786ca8_a324_11ea_bf92_186024172e4frow4_col1\" class=\"data row4 col1\" >2000</td>\n",
       "            </tr>\n",
       "    </tbody></table>"
      ],
      "text/plain": [
       "<pandas.io.formats.style.Styler at 0x15afc351788>"
      ]
     },
     "execution_count": 4,
     "metadata": {},
     "output_type": "execute_result"
    }
   ],
   "source": [
    "df.style.highlight_min()"
   ]
  },
  {
   "cell_type": "code",
   "execution_count": 5,
   "metadata": {},
   "outputs": [
    {
     "data": {
      "text/html": [
       "<style  type=\"text/css\" >\n",
       "    #T_859697d2_a324_11ea_a217_186024172e4frow3_col1 {\n",
       "            background-color:  red;\n",
       "        }</style><table id=\"T_859697d2_a324_11ea_a217_186024172e4f\" ><thead>    <tr>        <th class=\"blank level0\" ></th>        <th class=\"col_heading level0 col0\" >Item</th>        <th class=\"col_heading level0 col1\" >Cost</th>    </tr></thead><tbody>\n",
       "                <tr>\n",
       "                        <th id=\"T_859697d2_a324_11ea_a217_186024172e4flevel0_row0\" class=\"row_heading level0 row0\" >0</th>\n",
       "                        <td id=\"T_859697d2_a324_11ea_a217_186024172e4frow0_col0\" class=\"data row0 col0\" >Rent</td>\n",
       "                        <td id=\"T_859697d2_a324_11ea_a217_186024172e4frow0_col1\" class=\"data row0 col1\" >6000</td>\n",
       "            </tr>\n",
       "            <tr>\n",
       "                        <th id=\"T_859697d2_a324_11ea_a217_186024172e4flevel0_row1\" class=\"row_heading level0 row1\" >1</th>\n",
       "                        <td id=\"T_859697d2_a324_11ea_a217_186024172e4frow1_col0\" class=\"data row1 col0\" >Gas</td>\n",
       "                        <td id=\"T_859697d2_a324_11ea_a217_186024172e4frow1_col1\" class=\"data row1 col1\" >1650</td>\n",
       "            </tr>\n",
       "            <tr>\n",
       "                        <th id=\"T_859697d2_a324_11ea_a217_186024172e4flevel0_row2\" class=\"row_heading level0 row2\" >2</th>\n",
       "                        <td id=\"T_859697d2_a324_11ea_a217_186024172e4frow2_col0\" class=\"data row2 col0\" >Food</td>\n",
       "                        <td id=\"T_859697d2_a324_11ea_a217_186024172e4frow2_col1\" class=\"data row2 col1\" >5000</td>\n",
       "            </tr>\n",
       "            <tr>\n",
       "                        <th id=\"T_859697d2_a324_11ea_a217_186024172e4flevel0_row3\" class=\"row_heading level0 row3\" >3</th>\n",
       "                        <td id=\"T_859697d2_a324_11ea_a217_186024172e4frow3_col0\" class=\"data row3 col0\" >tax</td>\n",
       "                        <td id=\"T_859697d2_a324_11ea_a217_186024172e4frow3_col1\" class=\"data row3 col1\" >nan</td>\n",
       "            </tr>\n",
       "            <tr>\n",
       "                        <th id=\"T_859697d2_a324_11ea_a217_186024172e4flevel0_row4\" class=\"row_heading level0 row4\" >4</th>\n",
       "                        <td id=\"T_859697d2_a324_11ea_a217_186024172e4frow4_col0\" class=\"data row4 col0\" >Light Bill</td>\n",
       "                        <td id=\"T_859697d2_a324_11ea_a217_186024172e4frow4_col1\" class=\"data row4 col1\" >2000</td>\n",
       "            </tr>\n",
       "    </tbody></table>"
      ],
      "text/plain": [
       "<pandas.io.formats.style.Styler at 0x15afc41de08>"
      ]
     },
     "execution_count": 5,
     "metadata": {},
     "output_type": "execute_result"
    }
   ],
   "source": [
    "df.style.highlight_null()"
   ]
  },
  {
   "cell_type": "code",
   "execution_count": 6,
   "metadata": {},
   "outputs": [
    {
     "data": {
      "text/html": [
       "<style  type=\"text/css\" >\n",
       "    #T_85baa8ee_a324_11ea_abb2_186024172e4frow0_col0 {\n",
       "            background-color: green;\n",
       "        }    #T_85baa8ee_a324_11ea_abb2_186024172e4frow0_col1 {\n",
       "            background-color: green;\n",
       "        }    #T_85baa8ee_a324_11ea_abb2_186024172e4frow1_col0 {\n",
       "            background-color: red;\n",
       "        }    #T_85baa8ee_a324_11ea_abb2_186024172e4frow1_col1 {\n",
       "            background-color: red;\n",
       "        }    #T_85baa8ee_a324_11ea_abb2_186024172e4frow2_col0 {\n",
       "            background-color: green;\n",
       "        }    #T_85baa8ee_a324_11ea_abb2_186024172e4frow2_col1 {\n",
       "            background-color: green;\n",
       "        }    #T_85baa8ee_a324_11ea_abb2_186024172e4frow3_col0 {\n",
       "            background-color: green;\n",
       "        }    #T_85baa8ee_a324_11ea_abb2_186024172e4frow3_col1 {\n",
       "            background-color: green;\n",
       "        }    #T_85baa8ee_a324_11ea_abb2_186024172e4frow4_col0 {\n",
       "            background-color: red;\n",
       "        }    #T_85baa8ee_a324_11ea_abb2_186024172e4frow4_col1 {\n",
       "            background-color: red;\n",
       "        }</style><table id=\"T_85baa8ee_a324_11ea_abb2_186024172e4f\" ><thead>    <tr>        <th class=\"blank level0\" ></th>        <th class=\"col_heading level0 col0\" >Item</th>        <th class=\"col_heading level0 col1\" >Cost</th>    </tr></thead><tbody>\n",
       "                <tr>\n",
       "                        <th id=\"T_85baa8ee_a324_11ea_abb2_186024172e4flevel0_row0\" class=\"row_heading level0 row0\" >0</th>\n",
       "                        <td id=\"T_85baa8ee_a324_11ea_abb2_186024172e4frow0_col0\" class=\"data row0 col0\" >Rent</td>\n",
       "                        <td id=\"T_85baa8ee_a324_11ea_abb2_186024172e4frow0_col1\" class=\"data row0 col1\" >6000</td>\n",
       "            </tr>\n",
       "            <tr>\n",
       "                        <th id=\"T_85baa8ee_a324_11ea_abb2_186024172e4flevel0_row1\" class=\"row_heading level0 row1\" >1</th>\n",
       "                        <td id=\"T_85baa8ee_a324_11ea_abb2_186024172e4frow1_col0\" class=\"data row1 col0\" >Gas</td>\n",
       "                        <td id=\"T_85baa8ee_a324_11ea_abb2_186024172e4frow1_col1\" class=\"data row1 col1\" >1650</td>\n",
       "            </tr>\n",
       "            <tr>\n",
       "                        <th id=\"T_85baa8ee_a324_11ea_abb2_186024172e4flevel0_row2\" class=\"row_heading level0 row2\" >2</th>\n",
       "                        <td id=\"T_85baa8ee_a324_11ea_abb2_186024172e4frow2_col0\" class=\"data row2 col0\" >Food</td>\n",
       "                        <td id=\"T_85baa8ee_a324_11ea_abb2_186024172e4frow2_col1\" class=\"data row2 col1\" >5000</td>\n",
       "            </tr>\n",
       "            <tr>\n",
       "                        <th id=\"T_85baa8ee_a324_11ea_abb2_186024172e4flevel0_row3\" class=\"row_heading level0 row3\" >3</th>\n",
       "                        <td id=\"T_85baa8ee_a324_11ea_abb2_186024172e4frow3_col0\" class=\"data row3 col0\" >tax</td>\n",
       "                        <td id=\"T_85baa8ee_a324_11ea_abb2_186024172e4frow3_col1\" class=\"data row3 col1\" >nan</td>\n",
       "            </tr>\n",
       "            <tr>\n",
       "                        <th id=\"T_85baa8ee_a324_11ea_abb2_186024172e4flevel0_row4\" class=\"row_heading level0 row4\" >4</th>\n",
       "                        <td id=\"T_85baa8ee_a324_11ea_abb2_186024172e4frow4_col0\" class=\"data row4 col0\" >Light Bill</td>\n",
       "                        <td id=\"T_85baa8ee_a324_11ea_abb2_186024172e4frow4_col1\" class=\"data row4 col1\" >2000</td>\n",
       "            </tr>\n",
       "    </tbody></table>"
      ],
      "text/plain": [
       "<pandas.io.formats.style.Styler at 0x15afc4081c8>"
      ]
     },
     "execution_count": 6,
     "metadata": {},
     "output_type": "execute_result"
    }
   ],
   "source": [
    "margin_threshold = 5000\n",
    "\n",
    "df_format = df.style.apply(lambda x: ['background-color:red' if x < margin_threshold \\\n",
    "                                      else 'background-color:green' for x in df['Cost']], axis=0)\n",
    "\n",
    "df_format"
   ]
  },
  {
   "cell_type": "code",
   "execution_count": 7,
   "metadata": {},
   "outputs": [
    {
     "data": {
      "text/html": [
       "<style  type=\"text/css\" >\n",
       "    #T_85daec02_a324_11ea_9aeb_186024172e4frow0_col1 {\n",
       "            color:  green;\n",
       "        }    #T_85daec02_a324_11ea_9aeb_186024172e4frow1_col1 {\n",
       "            color:  red;\n",
       "        }    #T_85daec02_a324_11ea_9aeb_186024172e4frow2_col1 {\n",
       "            color:  green;\n",
       "        }    #T_85daec02_a324_11ea_9aeb_186024172e4frow3_col1 {\n",
       "            color:  green;\n",
       "        }    #T_85daec02_a324_11ea_9aeb_186024172e4frow4_col1 {\n",
       "            color:  red;\n",
       "        }</style><table id=\"T_85daec02_a324_11ea_9aeb_186024172e4f\" ><thead>    <tr>        <th class=\"blank level0\" ></th>        <th class=\"col_heading level0 col0\" >Item</th>        <th class=\"col_heading level0 col1\" >Cost</th>    </tr></thead><tbody>\n",
       "                <tr>\n",
       "                        <th id=\"T_85daec02_a324_11ea_9aeb_186024172e4flevel0_row0\" class=\"row_heading level0 row0\" >0</th>\n",
       "                        <td id=\"T_85daec02_a324_11ea_9aeb_186024172e4frow0_col0\" class=\"data row0 col0\" >Rent</td>\n",
       "                        <td id=\"T_85daec02_a324_11ea_9aeb_186024172e4frow0_col1\" class=\"data row0 col1\" >6000</td>\n",
       "            </tr>\n",
       "            <tr>\n",
       "                        <th id=\"T_85daec02_a324_11ea_9aeb_186024172e4flevel0_row1\" class=\"row_heading level0 row1\" >1</th>\n",
       "                        <td id=\"T_85daec02_a324_11ea_9aeb_186024172e4frow1_col0\" class=\"data row1 col0\" >Gas</td>\n",
       "                        <td id=\"T_85daec02_a324_11ea_9aeb_186024172e4frow1_col1\" class=\"data row1 col1\" >1650</td>\n",
       "            </tr>\n",
       "            <tr>\n",
       "                        <th id=\"T_85daec02_a324_11ea_9aeb_186024172e4flevel0_row2\" class=\"row_heading level0 row2\" >2</th>\n",
       "                        <td id=\"T_85daec02_a324_11ea_9aeb_186024172e4frow2_col0\" class=\"data row2 col0\" >Food</td>\n",
       "                        <td id=\"T_85daec02_a324_11ea_9aeb_186024172e4frow2_col1\" class=\"data row2 col1\" >5000</td>\n",
       "            </tr>\n",
       "            <tr>\n",
       "                        <th id=\"T_85daec02_a324_11ea_9aeb_186024172e4flevel0_row3\" class=\"row_heading level0 row3\" >3</th>\n",
       "                        <td id=\"T_85daec02_a324_11ea_9aeb_186024172e4frow3_col0\" class=\"data row3 col0\" >tax</td>\n",
       "                        <td id=\"T_85daec02_a324_11ea_9aeb_186024172e4frow3_col1\" class=\"data row3 col1\" >nan</td>\n",
       "            </tr>\n",
       "            <tr>\n",
       "                        <th id=\"T_85daec02_a324_11ea_9aeb_186024172e4flevel0_row4\" class=\"row_heading level0 row4\" >4</th>\n",
       "                        <td id=\"T_85daec02_a324_11ea_9aeb_186024172e4frow4_col0\" class=\"data row4 col0\" >Light Bill</td>\n",
       "                        <td id=\"T_85daec02_a324_11ea_9aeb_186024172e4frow4_col1\" class=\"data row4 col1\" >2000</td>\n",
       "            </tr>\n",
       "    </tbody></table>"
      ],
      "text/plain": [
       "<pandas.io.formats.style.Styler at 0x15afc408988>"
      ]
     },
     "execution_count": 7,
     "metadata": {},
     "output_type": "execute_result"
    }
   ],
   "source": [
    "def color_negative_red(val):\n",
    "    color = 'red' if val < margin_threshold else 'green'\n",
    "    return 'color: %s' % color\n",
    "\n",
    "df_styled = df.style.applymap(color_negative_red, subset=['Cost'])\n",
    "df_styled"
   ]
  },
  {
   "cell_type": "code",
   "execution_count": 8,
   "metadata": {},
   "outputs": [
    {
     "name": "stderr",
     "output_type": "stream",
     "text": [
      "C:\\Users\\sanji\\Anaconda3\\lib\\site-packages\\matplotlib\\colors.py:527: RuntimeWarning: invalid value encountered in less\n",
      "  xa[xa < 0] = -1\n"
     ]
    },
    {
     "data": {
      "text/html": [
       "<style  type=\"text/css\" >\n",
       "    #T_865581ec_a324_11ea_ba8f_186024172e4frow0_col1 {\n",
       "            background-color:  #ffe5e5;\n",
       "            color:  #000000;\n",
       "        }    #T_865581ec_a324_11ea_ba8f_186024172e4frow1_col1 {\n",
       "            background-color:  #ffe5e5;\n",
       "            color:  #000000;\n",
       "        }    #T_865581ec_a324_11ea_ba8f_186024172e4frow2_col1 {\n",
       "            background-color:  #ffe5e5;\n",
       "            color:  #000000;\n",
       "        }    #T_865581ec_a324_11ea_ba8f_186024172e4frow3_col1 {\n",
       "            background-color:  #ffe5e5;\n",
       "            color:  #000000;\n",
       "        }    #T_865581ec_a324_11ea_ba8f_186024172e4frow4_col1 {\n",
       "            background-color:  #ffe5e5;\n",
       "            color:  #000000;\n",
       "        }</style><table id=\"T_865581ec_a324_11ea_ba8f_186024172e4f\" ><thead>    <tr>        <th class=\"blank level0\" ></th>        <th class=\"col_heading level0 col0\" >Item</th>        <th class=\"col_heading level0 col1\" >Cost</th>    </tr></thead><tbody>\n",
       "                <tr>\n",
       "                        <th id=\"T_865581ec_a324_11ea_ba8f_186024172e4flevel0_row0\" class=\"row_heading level0 row0\" >0</th>\n",
       "                        <td id=\"T_865581ec_a324_11ea_ba8f_186024172e4frow0_col0\" class=\"data row0 col0\" >Rent</td>\n",
       "                        <td id=\"T_865581ec_a324_11ea_ba8f_186024172e4frow0_col1\" class=\"data row0 col1\" >6000</td>\n",
       "            </tr>\n",
       "            <tr>\n",
       "                        <th id=\"T_865581ec_a324_11ea_ba8f_186024172e4flevel0_row1\" class=\"row_heading level0 row1\" >1</th>\n",
       "                        <td id=\"T_865581ec_a324_11ea_ba8f_186024172e4frow1_col0\" class=\"data row1 col0\" >Gas</td>\n",
       "                        <td id=\"T_865581ec_a324_11ea_ba8f_186024172e4frow1_col1\" class=\"data row1 col1\" >1650</td>\n",
       "            </tr>\n",
       "            <tr>\n",
       "                        <th id=\"T_865581ec_a324_11ea_ba8f_186024172e4flevel0_row2\" class=\"row_heading level0 row2\" >2</th>\n",
       "                        <td id=\"T_865581ec_a324_11ea_ba8f_186024172e4frow2_col0\" class=\"data row2 col0\" >Food</td>\n",
       "                        <td id=\"T_865581ec_a324_11ea_ba8f_186024172e4frow2_col1\" class=\"data row2 col1\" >5000</td>\n",
       "            </tr>\n",
       "            <tr>\n",
       "                        <th id=\"T_865581ec_a324_11ea_ba8f_186024172e4flevel0_row3\" class=\"row_heading level0 row3\" >3</th>\n",
       "                        <td id=\"T_865581ec_a324_11ea_ba8f_186024172e4frow3_col0\" class=\"data row3 col0\" >tax</td>\n",
       "                        <td id=\"T_865581ec_a324_11ea_ba8f_186024172e4frow3_col1\" class=\"data row3 col1\" >nan</td>\n",
       "            </tr>\n",
       "            <tr>\n",
       "                        <th id=\"T_865581ec_a324_11ea_ba8f_186024172e4flevel0_row4\" class=\"row_heading level0 row4\" >4</th>\n",
       "                        <td id=\"T_865581ec_a324_11ea_ba8f_186024172e4frow4_col0\" class=\"data row4 col0\" >Light Bill</td>\n",
       "                        <td id=\"T_865581ec_a324_11ea_ba8f_186024172e4frow4_col1\" class=\"data row4 col1\" >2000</td>\n",
       "            </tr>\n",
       "    </tbody></table>"
      ],
      "text/plain": [
       "<pandas.io.formats.style.Styler at 0x15afc40c508>"
      ]
     },
     "execution_count": 8,
     "metadata": {},
     "output_type": "execute_result"
    }
   ],
   "source": [
    "import seaborn as sns\n",
    "\n",
    "cm = sns.light_palette(\"red\", as_cmap=True)\n",
    "\n",
    "s = df.style.background_gradient(cmap=cm)\n",
    "s"
   ]
  },
  {
   "cell_type": "code",
   "execution_count": 9,
   "metadata": {},
   "outputs": [
    {
     "data": {
      "text/html": [
       "<style  type=\"text/css\" >\n",
       "    #T_865a12b4_a324_11ea_a5ec_186024172e4frow0_col0 {\n",
       "            background-color:  yellow;\n",
       "            color:  purple;\n",
       "            border-color:  red;\n",
       "        }    #T_865a12b4_a324_11ea_a5ec_186024172e4frow0_col1 {\n",
       "            background-color:  yellow;\n",
       "            color:  purple;\n",
       "            border-color:  red;\n",
       "        }    #T_865a12b4_a324_11ea_a5ec_186024172e4frow1_col0 {\n",
       "            background-color:  yellow;\n",
       "            color:  purple;\n",
       "            border-color:  red;\n",
       "        }    #T_865a12b4_a324_11ea_a5ec_186024172e4frow1_col1 {\n",
       "            background-color:  yellow;\n",
       "            color:  purple;\n",
       "            border-color:  red;\n",
       "        }    #T_865a12b4_a324_11ea_a5ec_186024172e4frow2_col0 {\n",
       "            background-color:  yellow;\n",
       "            color:  purple;\n",
       "            border-color:  red;\n",
       "        }    #T_865a12b4_a324_11ea_a5ec_186024172e4frow2_col1 {\n",
       "            background-color:  yellow;\n",
       "            color:  purple;\n",
       "            border-color:  red;\n",
       "        }    #T_865a12b4_a324_11ea_a5ec_186024172e4frow3_col0 {\n",
       "            background-color:  yellow;\n",
       "            color:  purple;\n",
       "            border-color:  red;\n",
       "        }    #T_865a12b4_a324_11ea_a5ec_186024172e4frow3_col1 {\n",
       "            background-color:  yellow;\n",
       "            color:  purple;\n",
       "            border-color:  red;\n",
       "        }    #T_865a12b4_a324_11ea_a5ec_186024172e4frow4_col0 {\n",
       "            background-color:  yellow;\n",
       "            color:  purple;\n",
       "            border-color:  red;\n",
       "        }    #T_865a12b4_a324_11ea_a5ec_186024172e4frow4_col1 {\n",
       "            background-color:  yellow;\n",
       "            color:  purple;\n",
       "            border-color:  red;\n",
       "        }</style><table id=\"T_865a12b4_a324_11ea_a5ec_186024172e4f\" ><thead>    <tr>        <th class=\"blank level0\" ></th>        <th class=\"col_heading level0 col0\" >Item</th>        <th class=\"col_heading level0 col1\" >Cost</th>    </tr></thead><tbody>\n",
       "                <tr>\n",
       "                        <th id=\"T_865a12b4_a324_11ea_a5ec_186024172e4flevel0_row0\" class=\"row_heading level0 row0\" >0</th>\n",
       "                        <td id=\"T_865a12b4_a324_11ea_a5ec_186024172e4frow0_col0\" class=\"data row0 col0\" >Rent</td>\n",
       "                        <td id=\"T_865a12b4_a324_11ea_a5ec_186024172e4frow0_col1\" class=\"data row0 col1\" >6000</td>\n",
       "            </tr>\n",
       "            <tr>\n",
       "                        <th id=\"T_865a12b4_a324_11ea_a5ec_186024172e4flevel0_row1\" class=\"row_heading level0 row1\" >1</th>\n",
       "                        <td id=\"T_865a12b4_a324_11ea_a5ec_186024172e4frow1_col0\" class=\"data row1 col0\" >Gas</td>\n",
       "                        <td id=\"T_865a12b4_a324_11ea_a5ec_186024172e4frow1_col1\" class=\"data row1 col1\" >1650</td>\n",
       "            </tr>\n",
       "            <tr>\n",
       "                        <th id=\"T_865a12b4_a324_11ea_a5ec_186024172e4flevel0_row2\" class=\"row_heading level0 row2\" >2</th>\n",
       "                        <td id=\"T_865a12b4_a324_11ea_a5ec_186024172e4frow2_col0\" class=\"data row2 col0\" >Food</td>\n",
       "                        <td id=\"T_865a12b4_a324_11ea_a5ec_186024172e4frow2_col1\" class=\"data row2 col1\" >5000</td>\n",
       "            </tr>\n",
       "            <tr>\n",
       "                        <th id=\"T_865a12b4_a324_11ea_a5ec_186024172e4flevel0_row3\" class=\"row_heading level0 row3\" >3</th>\n",
       "                        <td id=\"T_865a12b4_a324_11ea_a5ec_186024172e4frow3_col0\" class=\"data row3 col0\" >tax</td>\n",
       "                        <td id=\"T_865a12b4_a324_11ea_a5ec_186024172e4frow3_col1\" class=\"data row3 col1\" >nan</td>\n",
       "            </tr>\n",
       "            <tr>\n",
       "                        <th id=\"T_865a12b4_a324_11ea_a5ec_186024172e4flevel0_row4\" class=\"row_heading level0 row4\" >4</th>\n",
       "                        <td id=\"T_865a12b4_a324_11ea_a5ec_186024172e4frow4_col0\" class=\"data row4 col0\" >Light Bill</td>\n",
       "                        <td id=\"T_865a12b4_a324_11ea_a5ec_186024172e4frow4_col1\" class=\"data row4 col1\" >2000</td>\n",
       "            </tr>\n",
       "    </tbody></table>"
      ],
      "text/plain": [
       "<pandas.io.formats.style.Styler at 0x15afc3ffc08>"
      ]
     },
     "execution_count": 9,
     "metadata": {},
     "output_type": "execute_result"
    }
   ],
   "source": [
    "df.style.set_properties(**{'background-color': 'yellow',\n",
    "                           'color': 'purple',\n",
    "                           'border-color': 'red'})"
   ]
  },
  {
   "cell_type": "code",
   "execution_count": 10,
   "metadata": {},
   "outputs": [
    {
     "data": {
      "text/html": [
       "<style  type=\"text/css\" >\n",
       "    #T_868b2292_a324_11ea_9276_186024172e4frow0_col1 {\n",
       "            width:  10em;\n",
       "             height:  80%;\n",
       "            background:  linear-gradient(90deg,#d65f5f 100.0%, transparent 100.0%);\n",
       "        }    #T_868b2292_a324_11ea_9276_186024172e4frow1_col1 {\n",
       "            width:  10em;\n",
       "             height:  80%;\n",
       "        }    #T_868b2292_a324_11ea_9276_186024172e4frow2_col1 {\n",
       "            width:  10em;\n",
       "             height:  80%;\n",
       "            background:  linear-gradient(90deg,#d65f5f 77.0%, transparent 77.0%);\n",
       "        }    #T_868b2292_a324_11ea_9276_186024172e4frow4_col1 {\n",
       "            width:  10em;\n",
       "             height:  80%;\n",
       "            background:  linear-gradient(90deg,#d65f5f 8.0%, transparent 8.0%);\n",
       "        }</style><table id=\"T_868b2292_a324_11ea_9276_186024172e4f\" ><thead>    <tr>        <th class=\"blank level0\" ></th>        <th class=\"col_heading level0 col0\" >Item</th>        <th class=\"col_heading level0 col1\" >Cost</th>    </tr></thead><tbody>\n",
       "                <tr>\n",
       "                        <th id=\"T_868b2292_a324_11ea_9276_186024172e4flevel0_row0\" class=\"row_heading level0 row0\" >0</th>\n",
       "                        <td id=\"T_868b2292_a324_11ea_9276_186024172e4frow0_col0\" class=\"data row0 col0\" >Rent</td>\n",
       "                        <td id=\"T_868b2292_a324_11ea_9276_186024172e4frow0_col1\" class=\"data row0 col1\" >6000</td>\n",
       "            </tr>\n",
       "            <tr>\n",
       "                        <th id=\"T_868b2292_a324_11ea_9276_186024172e4flevel0_row1\" class=\"row_heading level0 row1\" >1</th>\n",
       "                        <td id=\"T_868b2292_a324_11ea_9276_186024172e4frow1_col0\" class=\"data row1 col0\" >Gas</td>\n",
       "                        <td id=\"T_868b2292_a324_11ea_9276_186024172e4frow1_col1\" class=\"data row1 col1\" >1650</td>\n",
       "            </tr>\n",
       "            <tr>\n",
       "                        <th id=\"T_868b2292_a324_11ea_9276_186024172e4flevel0_row2\" class=\"row_heading level0 row2\" >2</th>\n",
       "                        <td id=\"T_868b2292_a324_11ea_9276_186024172e4frow2_col0\" class=\"data row2 col0\" >Food</td>\n",
       "                        <td id=\"T_868b2292_a324_11ea_9276_186024172e4frow2_col1\" class=\"data row2 col1\" >5000</td>\n",
       "            </tr>\n",
       "            <tr>\n",
       "                        <th id=\"T_868b2292_a324_11ea_9276_186024172e4flevel0_row3\" class=\"row_heading level0 row3\" >3</th>\n",
       "                        <td id=\"T_868b2292_a324_11ea_9276_186024172e4frow3_col0\" class=\"data row3 col0\" >tax</td>\n",
       "                        <td id=\"T_868b2292_a324_11ea_9276_186024172e4frow3_col1\" class=\"data row3 col1\" >nan</td>\n",
       "            </tr>\n",
       "            <tr>\n",
       "                        <th id=\"T_868b2292_a324_11ea_9276_186024172e4flevel0_row4\" class=\"row_heading level0 row4\" >4</th>\n",
       "                        <td id=\"T_868b2292_a324_11ea_9276_186024172e4frow4_col0\" class=\"data row4 col0\" >Light Bill</td>\n",
       "                        <td id=\"T_868b2292_a324_11ea_9276_186024172e4frow4_col1\" class=\"data row4 col1\" >2000</td>\n",
       "            </tr>\n",
       "    </tbody></table>"
      ],
      "text/plain": [
       "<pandas.io.formats.style.Styler at 0x15afe26af08>"
      ]
     },
     "execution_count": 10,
     "metadata": {},
     "output_type": "execute_result"
    }
   ],
   "source": [
    "df.style.bar(subset=['Cost'], color='#d65f5f')"
   ]
  }
 ],
 "metadata": {
  "kernelspec": {
   "display_name": "Python 3",
   "language": "python",
   "name": "python3"
  },
  "language_info": {
   "codemirror_mode": {
    "name": "ipython",
    "version": 3
   },
   "file_extension": ".py",
   "mimetype": "text/x-python",
   "name": "python",
   "nbconvert_exporter": "python",
   "pygments_lexer": "ipython3",
   "version": "3.7.4"
  }
 },
 "nbformat": 4,
 "nbformat_minor": 2
}
